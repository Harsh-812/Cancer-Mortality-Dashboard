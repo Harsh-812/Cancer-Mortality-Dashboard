{
 "cells": [
  {
   "cell_type": "code",
   "execution_count": 1,
   "id": "9cf87add",
   "metadata": {},
   "outputs": [
    {
     "name": "stdout",
     "output_type": "stream",
     "text": [
      "Requirement already satisfied: dash in /Users/harshitha/anaconda3/lib/python3.11/site-packages (2.16.1)\n",
      "Requirement already satisfied: plotly in /Users/harshitha/anaconda3/lib/python3.11/site-packages (5.9.0)\n",
      "Requirement already satisfied: pandas in /Users/harshitha/anaconda3/lib/python3.11/site-packages (2.0.3)\n",
      "Requirement already satisfied: Flask<3.1,>=1.0.4 in /Users/harshitha/anaconda3/lib/python3.11/site-packages (from dash) (2.2.2)\n",
      "Requirement already satisfied: Werkzeug<3.1 in /Users/harshitha/anaconda3/lib/python3.11/site-packages (from dash) (2.2.3)\n",
      "Requirement already satisfied: dash-html-components==2.0.0 in /Users/harshitha/anaconda3/lib/python3.11/site-packages (from dash) (2.0.0)\n",
      "Requirement already satisfied: dash-core-components==2.0.0 in /Users/harshitha/anaconda3/lib/python3.11/site-packages (from dash) (2.0.0)\n",
      "Requirement already satisfied: dash-table==5.0.0 in /Users/harshitha/anaconda3/lib/python3.11/site-packages (from dash) (5.0.0)\n",
      "Requirement already satisfied: importlib-metadata in /Users/harshitha/anaconda3/lib/python3.11/site-packages (from dash) (6.0.0)\n",
      "Requirement already satisfied: typing-extensions>=4.1.1 in /Users/harshitha/anaconda3/lib/python3.11/site-packages (from dash) (4.7.1)\n",
      "Requirement already satisfied: requests in /Users/harshitha/anaconda3/lib/python3.11/site-packages (from dash) (2.31.0)\n",
      "Requirement already satisfied: retrying in /Users/harshitha/anaconda3/lib/python3.11/site-packages (from dash) (1.3.4)\n",
      "Requirement already satisfied: nest-asyncio in /Users/harshitha/anaconda3/lib/python3.11/site-packages (from dash) (1.5.6)\n",
      "Requirement already satisfied: setuptools in /Users/harshitha/anaconda3/lib/python3.11/site-packages (from dash) (68.0.0)\n",
      "Requirement already satisfied: tenacity>=6.2.0 in /Users/harshitha/anaconda3/lib/python3.11/site-packages (from plotly) (8.2.2)\n",
      "Requirement already satisfied: python-dateutil>=2.8.2 in /Users/harshitha/anaconda3/lib/python3.11/site-packages (from pandas) (2.8.2)\n",
      "Requirement already satisfied: pytz>=2020.1 in /Users/harshitha/anaconda3/lib/python3.11/site-packages (from pandas) (2023.3.post1)\n",
      "Requirement already satisfied: tzdata>=2022.1 in /Users/harshitha/anaconda3/lib/python3.11/site-packages (from pandas) (2023.3)\n",
      "Requirement already satisfied: numpy>=1.21.0 in /Users/harshitha/anaconda3/lib/python3.11/site-packages (from pandas) (1.24.3)\n",
      "Requirement already satisfied: Jinja2>=3.0 in /Users/harshitha/anaconda3/lib/python3.11/site-packages (from Flask<3.1,>=1.0.4->dash) (3.1.2)\n",
      "Requirement already satisfied: itsdangerous>=2.0 in /Users/harshitha/anaconda3/lib/python3.11/site-packages (from Flask<3.1,>=1.0.4->dash) (2.0.1)\n",
      "Requirement already satisfied: click>=8.0 in /Users/harshitha/anaconda3/lib/python3.11/site-packages (from Flask<3.1,>=1.0.4->dash) (8.0.4)\n",
      "Requirement already satisfied: six>=1.5 in /Users/harshitha/anaconda3/lib/python3.11/site-packages (from python-dateutil>=2.8.2->pandas) (1.16.0)\n",
      "Requirement already satisfied: MarkupSafe>=2.1.1 in /Users/harshitha/anaconda3/lib/python3.11/site-packages (from Werkzeug<3.1->dash) (2.1.1)\n",
      "Requirement already satisfied: zipp>=0.5 in /Users/harshitha/anaconda3/lib/python3.11/site-packages (from importlib-metadata->dash) (3.11.0)\n",
      "Requirement already satisfied: charset-normalizer<4,>=2 in /Users/harshitha/anaconda3/lib/python3.11/site-packages (from requests->dash) (2.0.4)\n",
      "Requirement already satisfied: idna<4,>=2.5 in /Users/harshitha/anaconda3/lib/python3.11/site-packages (from requests->dash) (3.4)\n",
      "Requirement already satisfied: urllib3<3,>=1.21.1 in /Users/harshitha/anaconda3/lib/python3.11/site-packages (from requests->dash) (1.26.16)\n",
      "Requirement already satisfied: certifi>=2017.4.17 in /Users/harshitha/anaconda3/lib/python3.11/site-packages (from requests->dash) (2023.7.22)\n",
      "Note: you may need to restart the kernel to use updated packages.\n"
     ]
    }
   ],
   "source": [
    "pip install dash plotly pandas"
   ]
  },
  {
   "cell_type": "markdown",
   "id": "11fda8db",
   "metadata": {},
   "source": [
    "# Required Libraries"
   ]
  },
  {
   "cell_type": "code",
   "execution_count": 2,
   "id": "0ca7c022",
   "metadata": {},
   "outputs": [],
   "source": [
    "import pandas as pd\n",
    "import numpy as np\n",
    "import matplotlib.pyplot as plt\n",
    "import seaborn as sns"
   ]
  },
  {
   "cell_type": "markdown",
   "id": "22ffb655",
   "metadata": {},
   "source": [
    "## Loading the data"
   ]
  },
  {
   "cell_type": "code",
   "execution_count": 3,
   "id": "f7636b3e",
   "metadata": {},
   "outputs": [],
   "source": [
    "df1=pd.read_csv(\"AH_Provisional_Cancer_Death_Counts_by_Month_and_Year__2020-2021.csv\")"
   ]
  },
  {
   "cell_type": "code",
   "execution_count": 4,
   "id": "9ab9d9e8",
   "metadata": {},
   "outputs": [
    {
     "data": {
      "text/html": [
       "<div>\n",
       "<style scoped>\n",
       "    .dataframe tbody tr th:only-of-type {\n",
       "        vertical-align: middle;\n",
       "    }\n",
       "\n",
       "    .dataframe tbody tr th {\n",
       "        vertical-align: top;\n",
       "    }\n",
       "\n",
       "    .dataframe thead th {\n",
       "        text-align: right;\n",
       "    }\n",
       "</style>\n",
       "<table border=\"1\" class=\"dataframe\">\n",
       "  <thead>\n",
       "    <tr style=\"text-align: right;\">\n",
       "      <th></th>\n",
       "      <th>Data As Of</th>\n",
       "      <th>Start Date</th>\n",
       "      <th>End Date</th>\n",
       "      <th>Country</th>\n",
       "      <th>Year</th>\n",
       "      <th>Month</th>\n",
       "      <th>Sex</th>\n",
       "      <th>Age Group</th>\n",
       "      <th>Race and Hispanic Origin</th>\n",
       "      <th>Malignant neoplasms (C00-C97)</th>\n",
       "      <th>...</th>\n",
       "      <th>Malignant neoplasm of breast (C50)</th>\n",
       "      <th>Malignant neoplasm of cervix uteri (C53)</th>\n",
       "      <th>Malignant neoplasms of corpus uteri and uterus, part unspecified (C54-C55)</th>\n",
       "      <th>Malignant neoplasm of ovary (C56)</th>\n",
       "      <th>Malignant neoplasm of prostate (C61)</th>\n",
       "      <th>Malignant neoplasms of kidney and renal pelvis (C64-C65)</th>\n",
       "      <th>Malignant neoplasm of bladder (C67)</th>\n",
       "      <th>Malignant neoplasms of meninges, brain and other parts of central nervous system (C70-C72)</th>\n",
       "      <th>Malignant neoplasms of lymphoid, hematopoietic and related tissue (C81-C96)</th>\n",
       "      <th>All other and unspecified malignant neoplasms (C17,C23-C24,C26-C31,C37-C41,C44-C49,C51-C52,C57-C60,C62-C63,C66,C68-C69,C73-C80,C97)</th>\n",
       "    </tr>\n",
       "  </thead>\n",
       "  <tbody>\n",
       "    <tr>\n",
       "      <th>0</th>\n",
       "      <td>11/23/2021</td>\n",
       "      <td>03/01/2020</td>\n",
       "      <td>03/31/2020</td>\n",
       "      <td>United States</td>\n",
       "      <td>2020</td>\n",
       "      <td>3</td>\n",
       "      <td>Female (F)</td>\n",
       "      <td>0-14 years</td>\n",
       "      <td>Unknown</td>\n",
       "      <td>0</td>\n",
       "      <td>...</td>\n",
       "      <td>0</td>\n",
       "      <td>0</td>\n",
       "      <td>0</td>\n",
       "      <td>0</td>\n",
       "      <td>0</td>\n",
       "      <td>0</td>\n",
       "      <td>0</td>\n",
       "      <td>0</td>\n",
       "      <td>0</td>\n",
       "      <td>0</td>\n",
       "    </tr>\n",
       "    <tr>\n",
       "      <th>1</th>\n",
       "      <td>11/23/2021</td>\n",
       "      <td>04/01/2020</td>\n",
       "      <td>04/30/2020</td>\n",
       "      <td>United States</td>\n",
       "      <td>2020</td>\n",
       "      <td>4</td>\n",
       "      <td>Female (F)</td>\n",
       "      <td>0-14 years</td>\n",
       "      <td>Unknown</td>\n",
       "      <td>0</td>\n",
       "      <td>...</td>\n",
       "      <td>0</td>\n",
       "      <td>0</td>\n",
       "      <td>0</td>\n",
       "      <td>0</td>\n",
       "      <td>0</td>\n",
       "      <td>0</td>\n",
       "      <td>0</td>\n",
       "      <td>0</td>\n",
       "      <td>0</td>\n",
       "      <td>0</td>\n",
       "    </tr>\n",
       "    <tr>\n",
       "      <th>2</th>\n",
       "      <td>11/23/2021</td>\n",
       "      <td>05/01/2020</td>\n",
       "      <td>05/31/2020</td>\n",
       "      <td>United States</td>\n",
       "      <td>2020</td>\n",
       "      <td>5</td>\n",
       "      <td>Female (F)</td>\n",
       "      <td>0-14 years</td>\n",
       "      <td>Unknown</td>\n",
       "      <td>0</td>\n",
       "      <td>...</td>\n",
       "      <td>0</td>\n",
       "      <td>0</td>\n",
       "      <td>0</td>\n",
       "      <td>0</td>\n",
       "      <td>0</td>\n",
       "      <td>0</td>\n",
       "      <td>0</td>\n",
       "      <td>0</td>\n",
       "      <td>0</td>\n",
       "      <td>0</td>\n",
       "    </tr>\n",
       "    <tr>\n",
       "      <th>3</th>\n",
       "      <td>11/23/2021</td>\n",
       "      <td>01/01/2020</td>\n",
       "      <td>01/31/2020</td>\n",
       "      <td>United States</td>\n",
       "      <td>2020</td>\n",
       "      <td>1</td>\n",
       "      <td>Female (F)</td>\n",
       "      <td>0-14 years</td>\n",
       "      <td>Hispanic</td>\n",
       "      <td>14</td>\n",
       "      <td>...</td>\n",
       "      <td>0</td>\n",
       "      <td>0</td>\n",
       "      <td>0</td>\n",
       "      <td>0</td>\n",
       "      <td>0</td>\n",
       "      <td>0</td>\n",
       "      <td>0</td>\n",
       "      <td>5</td>\n",
       "      <td>4</td>\n",
       "      <td>5</td>\n",
       "    </tr>\n",
       "    <tr>\n",
       "      <th>4</th>\n",
       "      <td>11/23/2021</td>\n",
       "      <td>02/01/2020</td>\n",
       "      <td>02/29/2020</td>\n",
       "      <td>United States</td>\n",
       "      <td>2020</td>\n",
       "      <td>2</td>\n",
       "      <td>Female (F)</td>\n",
       "      <td>0-14 years</td>\n",
       "      <td>Hispanic</td>\n",
       "      <td>17</td>\n",
       "      <td>...</td>\n",
       "      <td>0</td>\n",
       "      <td>0</td>\n",
       "      <td>0</td>\n",
       "      <td>0</td>\n",
       "      <td>0</td>\n",
       "      <td>1</td>\n",
       "      <td>0</td>\n",
       "      <td>8</td>\n",
       "      <td>3</td>\n",
       "      <td>5</td>\n",
       "    </tr>\n",
       "  </tbody>\n",
       "</table>\n",
       "<p>5 rows × 29 columns</p>\n",
       "</div>"
      ],
      "text/plain": [
       "   Data As Of  Start Date    End Date        Country  Year  Month         Sex  \\\n",
       "0  11/23/2021  03/01/2020  03/31/2020  United States  2020      3  Female (F)   \n",
       "1  11/23/2021  04/01/2020  04/30/2020  United States  2020      4  Female (F)   \n",
       "2  11/23/2021  05/01/2020  05/31/2020  United States  2020      5  Female (F)   \n",
       "3  11/23/2021  01/01/2020  01/31/2020  United States  2020      1  Female (F)   \n",
       "4  11/23/2021  02/01/2020  02/29/2020  United States  2020      2  Female (F)   \n",
       "\n",
       "    Age Group Race and Hispanic Origin  Malignant neoplasms (C00-C97)  ...  \\\n",
       "0  0-14 years                  Unknown                              0  ...   \n",
       "1  0-14 years                  Unknown                              0  ...   \n",
       "2  0-14 years                  Unknown                              0  ...   \n",
       "3  0-14 years                 Hispanic                             14  ...   \n",
       "4  0-14 years                 Hispanic                             17  ...   \n",
       "\n",
       "   Malignant neoplasm of breast (C50)  \\\n",
       "0                                   0   \n",
       "1                                   0   \n",
       "2                                   0   \n",
       "3                                   0   \n",
       "4                                   0   \n",
       "\n",
       "   Malignant neoplasm of cervix uteri (C53)  \\\n",
       "0                                         0   \n",
       "1                                         0   \n",
       "2                                         0   \n",
       "3                                         0   \n",
       "4                                         0   \n",
       "\n",
       "   Malignant neoplasms of corpus uteri and uterus, part unspecified (C54-C55)  \\\n",
       "0                                                  0                            \n",
       "1                                                  0                            \n",
       "2                                                  0                            \n",
       "3                                                  0                            \n",
       "4                                                  0                            \n",
       "\n",
       "   Malignant neoplasm of ovary (C56)  Malignant neoplasm of prostate (C61)  \\\n",
       "0                                  0                                     0   \n",
       "1                                  0                                     0   \n",
       "2                                  0                                     0   \n",
       "3                                  0                                     0   \n",
       "4                                  0                                     0   \n",
       "\n",
       "   Malignant neoplasms of kidney and renal pelvis (C64-C65)  \\\n",
       "0                                                  0          \n",
       "1                                                  0          \n",
       "2                                                  0          \n",
       "3                                                  0          \n",
       "4                                                  1          \n",
       "\n",
       "   Malignant neoplasm of bladder (C67)  \\\n",
       "0                                    0   \n",
       "1                                    0   \n",
       "2                                    0   \n",
       "3                                    0   \n",
       "4                                    0   \n",
       "\n",
       "   Malignant neoplasms of meninges, brain and other parts of central nervous system (C70-C72)  \\\n",
       "0                                                  0                                            \n",
       "1                                                  0                                            \n",
       "2                                                  0                                            \n",
       "3                                                  5                                            \n",
       "4                                                  8                                            \n",
       "\n",
       "   Malignant neoplasms of lymphoid, hematopoietic and related tissue (C81-C96)  \\\n",
       "0                                                  0                             \n",
       "1                                                  0                             \n",
       "2                                                  0                             \n",
       "3                                                  4                             \n",
       "4                                                  3                             \n",
       "\n",
       "   All other and unspecified malignant neoplasms (C17,C23-C24,C26-C31,C37-C41,C44-C49,C51-C52,C57-C60,C62-C63,C66,C68-C69,C73-C80,C97)  \n",
       "0                                                  0                                                                                    \n",
       "1                                                  0                                                                                    \n",
       "2                                                  0                                                                                    \n",
       "3                                                  5                                                                                    \n",
       "4                                                  5                                                                                    \n",
       "\n",
       "[5 rows x 29 columns]"
      ]
     },
     "execution_count": 4,
     "metadata": {},
     "output_type": "execute_result"
    }
   ],
   "source": [
    "df1.head()"
   ]
  },
  {
   "cell_type": "markdown",
   "id": "f825e15e",
   "metadata": {},
   "source": [
    "# Data Preprocessing"
   ]
  },
  {
   "cell_type": "code",
   "execution_count": 5,
   "id": "bf8b9213",
   "metadata": {},
   "outputs": [
    {
     "data": {
      "text/plain": [
       "Data As Of                                                                                                                             0\n",
       "Start Date                                                                                                                             0\n",
       "End Date                                                                                                                               0\n",
       "Country                                                                                                                                0\n",
       "Year                                                                                                                                   0\n",
       "Month                                                                                                                                  0\n",
       "Sex                                                                                                                                    0\n",
       "Age Group                                                                                                                              0\n",
       "Race and Hispanic Origin                                                                                                               0\n",
       "Malignant neoplasms (C00-C97)                                                                                                          0\n",
       "Malignant neoplasms of lip, oral cavity and pharynx (C00-C14)                                                                          0\n",
       "Malignant neoplasm of esophagus (C15)                                                                                                  0\n",
       "Malignant neoplasm of stomach (C16)                                                                                                    0\n",
       "Malignant neoplasms of colon, rectum and anus (C18-C21)                                                                                0\n",
       "Malignant neoplasms of liver and intrahepatic bile ducts (C22)                                                                         0\n",
       "Malignant neoplasm of pancreas (C25)                                                                                                   0\n",
       "Malignant neoplasm of larynx (C32)                                                                                                     0\n",
       "Malignant neoplasms of trachea, bronchus and lung (C33-C34)                                                                            0\n",
       "Malignant melanoma of skin (C43)                                                                                                       0\n",
       "Malignant neoplasm of breast (C50)                                                                                                     0\n",
       "Malignant neoplasm of cervix uteri (C53)                                                                                               0\n",
       "Malignant neoplasms of corpus uteri and uterus, part unspecified (C54-C55)                                                             0\n",
       "Malignant neoplasm of ovary (C56)                                                                                                      0\n",
       "Malignant neoplasm of prostate (C61)                                                                                                   0\n",
       "Malignant neoplasms of kidney and renal pelvis (C64-C65)                                                                               0\n",
       "Malignant neoplasm of bladder (C67)                                                                                                    0\n",
       "Malignant neoplasms of meninges, brain and other parts of central nervous system (C70-C72)                                             0\n",
       "Malignant neoplasms of lymphoid, hematopoietic and related tissue (C81-C96)                                                            0\n",
       "All other and unspecified malignant neoplasms (C17,C23-C24,C26-C31,C37-C41,C44-C49,C51-C52,C57-C60,C62-C63,C66,C68-C69,C73-C80,C97)    0\n",
       "dtype: int64"
      ]
     },
     "execution_count": 5,
     "metadata": {},
     "output_type": "execute_result"
    }
   ],
   "source": [
    "missing_values = df1.isnull().sum()\n",
    "missing_values\n",
    "\n",
    "# No Null Values"
   ]
  },
  {
   "cell_type": "code",
   "execution_count": 6,
   "id": "d2ad69bc",
   "metadata": {},
   "outputs": [],
   "source": [
    "# Making another copy of the data and naming it \"data\"\n",
    "\n",
    "data = df1.copy()"
   ]
  },
  {
   "cell_type": "code",
   "execution_count": 7,
   "id": "74e97b71",
   "metadata": {},
   "outputs": [
    {
     "name": "stdout",
     "output_type": "stream",
     "text": [
      "['F' 'M']\n"
     ]
    }
   ],
   "source": [
    "# Replacing \"Female (F)\" with \"F\" and \"Male (M)\" with \"M\" in the \"Sex\" column of the new DataFrame for visualization purpose\n",
    "\n",
    "data['Sex'] = data['Sex'].replace({'Female (F)': 'F', 'Male (M)': 'M'})\n",
    "print(data['Sex'].unique())"
   ]
  },
  {
   "cell_type": "code",
   "execution_count": 8,
   "id": "53605b07",
   "metadata": {},
   "outputs": [
    {
     "name": "stdout",
     "output_type": "stream",
     "text": [
      "['0-14' '15-24' '25-34' '35-44' '55-64' '45-54' '65-74' '75 and over']\n"
     ]
    }
   ],
   "source": [
    "# Removing \"years\" from the 'Age Group' column for visualization purpose\n",
    "\n",
    "data['Age Group'] = data['Age Group'].str.replace(' years', '')\n",
    "print(data['Age Group'].unique())"
   ]
  },
  {
   "cell_type": "code",
   "execution_count": 9,
   "id": "2a07a3ee",
   "metadata": {},
   "outputs": [
    {
     "name": "stdout",
     "output_type": "stream",
     "text": [
      "['Unknown' 'Hispanic' 'American Indian or Alaska Native' 'Asian' 'Black'\n",
      " 'More than one race' 'Native Hawaiian or Other Pacific Islander' 'White']\n"
     ]
    }
   ],
   "source": [
    "# Removing \"Hispanic\" from every row in the \"Race\" column for easy readability and visualization purposes\n",
    "\n",
    "data['Race and Hispanic Origin'] = data['Race and Hispanic Origin'].str.replace('Non-Hispanic ', '')\n",
    "print(data['Race and Hispanic Origin'].unique())"
   ]
  },
  {
   "cell_type": "code",
   "execution_count": 10,
   "id": "fd4d0061",
   "metadata": {},
   "outputs": [],
   "source": [
    "# Renaming the \"Race and Hispanic Origin\" column\n",
    "\n",
    "data.rename(columns={'Race and Hispanic Origin': 'Race'}, inplace=True)"
   ]
  },
  {
   "cell_type": "code",
   "execution_count": 11,
   "id": "5afdbf26",
   "metadata": {},
   "outputs": [
    {
     "name": "stdout",
     "output_type": "stream",
     "text": [
      "Index(['Data As Of', 'Start Date', 'End Date', 'Country', 'Year', 'Month',\n",
      "       'Sex', 'Age Group', 'Race', 'Cancer (C00-C97)',\n",
      "       'Cancer of lip, oral cavity and pharynx (C00-C14)',\n",
      "       'Cancer of esophagus (C15)', 'Cancer of stomach (C16)',\n",
      "       'Cancer of colon, rectum and anus (C18-C21)',\n",
      "       'Cancer of liver and intrahepatic bile ducts (C22)',\n",
      "       'Cancer of pancreas (C25)', 'Cancer of larynx (C32)',\n",
      "       'Cancer of trachea, bronchus and lung (C33-C34)',\n",
      "       'Malignant melanoma of skin (C43)', 'Cancer of breast (C50)',\n",
      "       'Cancer of cervix uteri (C53)',\n",
      "       'Cancer of corpus uteri and uterus, part unspecified (C54-C55)',\n",
      "       'Cancer of ovary (C56)', 'Cancer of prostate (C61)',\n",
      "       'Cancer of kidney and renal pelvis (C64-C65)',\n",
      "       'Cancer of bladder (C67)',\n",
      "       'Cancer of meninges, brain and other parts of central nervous system (C70-C72)',\n",
      "       'Cancer of lymphoid, hematopoietic and related tissue (C81-C96)',\n",
      "       'All other and unspecified malignant neoplasms (C17,C23-C24,C26-C31,C37-C41,C44-C49,C51-C52,C57-C60,C62-C63,C66,C68-C69,C73-C80,C97)'],\n",
      "      dtype='object')\n"
     ]
    }
   ],
   "source": [
    "# Replacing \"Malignant Neoplasm\" with \"Cancer\" for easy readability and visualization\n",
    "\n",
    "data.columns = [col.replace('Malignant neoplasms', 'Cancer') for col in data.columns]\n",
    "data.columns = [col.replace('Malignant neoplasm', 'Cancer') for col in data.columns]\n",
    "print(data.columns)"
   ]
  },
  {
   "cell_type": "code",
   "execution_count": 12,
   "id": "fba37623",
   "metadata": {},
   "outputs": [
    {
     "name": "stdout",
     "output_type": "stream",
     "text": [
      "<class 'pandas.core.frame.DataFrame'>\n",
      "RangeIndex: 2816 entries, 0 to 2815\n",
      "Data columns (total 29 columns):\n",
      " #   Column                                                                                                                               Non-Null Count  Dtype \n",
      "---  ------                                                                                                                               --------------  ----- \n",
      " 0   Data As Of                                                                                                                           2816 non-null   object\n",
      " 1   Start Date                                                                                                                           2816 non-null   object\n",
      " 2   End Date                                                                                                                             2816 non-null   object\n",
      " 3   Country                                                                                                                              2816 non-null   object\n",
      " 4   Year                                                                                                                                 2816 non-null   int64 \n",
      " 5   Month                                                                                                                                2816 non-null   int64 \n",
      " 6   Sex                                                                                                                                  2816 non-null   object\n",
      " 7   Age Group                                                                                                                            2816 non-null   object\n",
      " 8   Race                                                                                                                                 2816 non-null   object\n",
      " 9   Cancer (C00-C97)                                                                                                                     2816 non-null   int64 \n",
      " 10  Cancer of lip, oral cavity and pharynx (C00-C14)                                                                                     2816 non-null   int64 \n",
      " 11  Cancer of esophagus (C15)                                                                                                            2816 non-null   int64 \n",
      " 12  Cancer of stomach (C16)                                                                                                              2816 non-null   int64 \n",
      " 13  Cancer of colon, rectum and anus (C18-C21)                                                                                           2816 non-null   int64 \n",
      " 14  Cancer of liver and intrahepatic bile ducts (C22)                                                                                    2816 non-null   int64 \n",
      " 15  Cancer of pancreas (C25)                                                                                                             2816 non-null   int64 \n",
      " 16  Cancer of larynx (C32)                                                                                                               2816 non-null   int64 \n",
      " 17  Cancer of trachea, bronchus and lung (C33-C34)                                                                                       2816 non-null   int64 \n",
      " 18  Malignant melanoma of skin (C43)                                                                                                     2816 non-null   int64 \n",
      " 19  Cancer of breast (C50)                                                                                                               2816 non-null   int64 \n",
      " 20  Cancer of cervix uteri (C53)                                                                                                         2816 non-null   int64 \n",
      " 21  Cancer of corpus uteri and uterus, part unspecified (C54-C55)                                                                        2816 non-null   int64 \n",
      " 22  Cancer of ovary (C56)                                                                                                                2816 non-null   int64 \n",
      " 23  Cancer of prostate (C61)                                                                                                             2816 non-null   int64 \n",
      " 24  Cancer of kidney and renal pelvis (C64-C65)                                                                                          2816 non-null   int64 \n",
      " 25  Cancer of bladder (C67)                                                                                                              2816 non-null   int64 \n",
      " 26  Cancer of meninges, brain and other parts of central nervous system (C70-C72)                                                        2816 non-null   int64 \n",
      " 27  Cancer of lymphoid, hematopoietic and related tissue (C81-C96)                                                                       2816 non-null   int64 \n",
      " 28  All other and unspecified malignant neoplasms (C17,C23-C24,C26-C31,C37-C41,C44-C49,C51-C52,C57-C60,C62-C63,C66,C68-C69,C73-C80,C97)  2816 non-null   int64 \n",
      "dtypes: int64(22), object(7)\n",
      "memory usage: 638.1+ KB\n"
     ]
    }
   ],
   "source": [
    "data.info()"
   ]
  },
  {
   "cell_type": "code",
   "execution_count": 13,
   "id": "06cbb000",
   "metadata": {},
   "outputs": [],
   "source": [
    "# Changing column names for visualization purpose\n",
    "\n",
    "data.rename(columns={'All other and unspecified malignant neoplasms (C17,C23-C24,C26-C31,C37-C41,C44-C49,C51-C52,C57-C60,C62-C63,C66,C68-C69,C73-C80,C97)': 'All Other Malignant Neoplasms', 'Cancer of meninges, brain and other parts of central nervous system (C70-C72)': 'Cancer of brain/central nervous system (C70-C72)', 'Cancer of lymphoid, hematopoietic and related tissue (C81-C96)' : 'Cancer of lymphoid/hematopoietic (C81-C96)'}, inplace=True)"
   ]
  },
  {
   "cell_type": "code",
   "execution_count": 14,
   "id": "ab3479cd",
   "metadata": {},
   "outputs": [],
   "source": [
    "# Converted the dataframe into csv\n",
    "\n",
    "data.to_csv('cleaned_P4_2.csv', index=False)"
   ]
  },
  {
   "cell_type": "markdown",
   "id": "67833928",
   "metadata": {},
   "source": [
    "# Data visulization : Dashboard"
   ]
  },
  {
   "cell_type": "code",
   "execution_count": 15,
   "id": "9752ea94",
   "metadata": {},
   "outputs": [],
   "source": [
    "# Libraries required for creating Dashboard\n",
    "\n",
    "import dash\n",
    "from dash import dcc, html\n",
    "from dash.dependencies import Input, Output\n",
    "from dash import html, dcc, Input, Output, dash_table\n",
    "import plotly.express as px\n",
    "import plotly.graph_objects as go\n",
    "import plotly.graph_objs as go"
   ]
  },
  {
   "cell_type": "code",
   "execution_count": 16,
   "id": "6e889e93",
   "metadata": {},
   "outputs": [],
   "source": [
    "app = dash.Dash(__name__)"
   ]
  },
  {
   "cell_type": "code",
   "execution_count": 17,
   "id": "eef9e8a9",
   "metadata": {},
   "outputs": [],
   "source": [
    "# Loading the cleaned data\n",
    "\n",
    "df = pd.read_csv('cleaned_P4_2.csv')"
   ]
  },
  {
   "cell_type": "code",
   "execution_count": null,
   "id": "ec387b61",
   "metadata": {},
   "outputs": [],
   "source": [
    "# Loading the cancer types definitions Excel file to add to the dashboard as a feature\n",
    "\n",
    "cancer_definitions = pd.read_excel('Cancer Types Definitions.XLSX')  "
   ]
  },
  {
   "cell_type": "code",
   "execution_count": null,
   "id": "c284261c",
   "metadata": {},
   "outputs": [],
   "source": [
    "# Converting the cancer definitions dataframe to a dictionary for easy retrieval\n",
    "\n",
    "cancer_definitions_dict = cancer_definitions.set_index('Cancer Type').to_dict('index')"
   ]
  },
  {
   "cell_type": "code",
   "execution_count": 18,
   "id": "55b2c7fe",
   "metadata": {},
   "outputs": [],
   "source": [
    "# Converting 'Start Date' to datetime type and creating 'Month-Year' column\n",
    "\n",
    "df['Start Date'] = pd.to_datetime(df['Start Date'])\n",
    "df['Month-Year'] = df['Start Date'].dt.strftime('%Y-%m')"
   ]
  },
  {
   "cell_type": "code",
   "execution_count": 25,
   "id": "4dc8837d",
   "metadata": {},
   "outputs": [],
   "source": [
    "# Data Preparation for the heatmap \n",
    "\n",
    "df_dropped_updated = df.drop(columns=['Data As Of', 'Start Date', 'End Date', 'Country', 'Year', 'Month', 'Sex', 'Race', 'Cancer (C00-C97)', 'Month-Year'])\n",
    "df_grouped_updated = df_dropped_updated.groupby('Age Group').sum().reset_index()\n",
    "\n",
    "df_transposed_updated = df_grouped_updated.set_index('Age Group').transpose().reset_index()\n",
    "df_transposed_updated.columns.name = None\n"
   ]
  },
  {
   "cell_type": "code",
   "execution_count": 26,
   "id": "2590b2f0",
   "metadata": {},
   "outputs": [
    {
     "data": {
      "text/html": [
       "\n",
       "        <iframe\n",
       "            width=\"100%\"\n",
       "            height=\"650\"\n",
       "            src=\"http://127.0.0.1:8050/\"\n",
       "            frameborder=\"0\"\n",
       "            allowfullscreen\n",
       "            \n",
       "        ></iframe>\n",
       "        "
      ],
      "text/plain": [
       "<IPython.lib.display.IFrame at 0x16c57ec90>"
      ]
     },
     "metadata": {},
     "output_type": "display_data"
    },
    {
     "name": "stdout",
     "output_type": "stream",
     "text": [
      "Dashboard is running at http://127.0.0.1:8050/\n"
     ]
    }
   ],
   "source": [
    "# Selecting columns to sum\n",
    "columns_to_sum = [col for col in df.columns if df[col].dtype in ['int64', 'float64'] and not any(z in col for z in ['Start Date', 'Month-Year', 'Year', 'Month'])]\n",
    "\n",
    "# Aggregating data for the updated time series chart and bar chart\n",
    "monthly_cases = df.groupby('Month-Year')[columns_to_sum].sum().reset_index()\n",
    "aggregated_data = df.groupby('Age Group')[columns_to_sum].sum().reset_index()\n",
    "\n",
    "# Heatmap\n",
    "heatmap_fig = go.Figure(data=go.Heatmap(\n",
    "    z=df_transposed_updated.iloc[:, 1:].values,\n",
    "    x=df_transposed_updated.columns[1:],\n",
    "    y=df_transposed_updated['index'],\n",
    "    colorscale='YlOrRd',\n",
    "    colorbar=dict(title='Total Cases'),\n",
    "))\n",
    "heatmap_fig.update_layout(\n",
    "    height=600,\n",
    "    width=1400, \n",
    "    title_text=\"Relationship between 'Age Group' & 'Cancer Type'\",\n",
    "    title_x=0.5,\n",
    "    title_font=dict(size=24),  \n",
    "    xaxis_title=\"Age Group\",\n",
    "    yaxis_title=\"Cancer Type\"\n",
    ")\n",
    "\n",
    "# Initializing the Dash app\n",
    "app = dash.Dash(__name__)\n",
    "app.title = 'Dashboard for Deaths caused by Malignant Neoplasms (Cancer)'\n",
    "\n",
    "# Define the layout of the app with two graphs per row and left-aligned dropdown, including the heatmap\n",
    "app.layout = html.Div(children=[\n",
    "    html.H1(\n",
    "        children='Dashboard for Deaths caused by Malignant Neoplasms (Cancer)',\n",
    "        style={'textAlign': 'center', 'fontWeight': 'bold', 'textDecoration': 'underline', 'fontSize': '42px', 'color': '#000000','paddingTop': '30px'}\n",
    "    ),\n",
    "    html.H2(\n",
    "        children='For the Year 2020-21',\n",
    "        style={'textAlign': 'center', 'fontWeight': 'bold'}\n",
    "    ),\n",
    "    html.Div([\n",
    "        html.Label('Select Cancer Type:', style={'textAlign': 'left', 'fontSize': 22}),\n",
    "        dcc.Dropdown(\n",
    "            id='cancer-type-dropdown',\n",
    "            options=[{'label': i, 'value': i} for i in columns_to_sum],\n",
    "            value=columns_to_sum[0],\n",
    "            style={'width': '100%'}\n",
    "        )\n",
    "    ], style={'padding': '10px'}),\n",
    "    html.Div(id='total-deaths', style={'textAlign': 'center', 'fontSize': 30, 'marginTop': 20, 'marginBottom': 20, 'color': '#DD3721'}),  \n",
    "    html.Div(id='cancer-info-table'),  \n",
    "    html.Div([\n",
    "        dcc.Graph(id='time-series-chart'),\n",
    "        dcc.Graph(id='pie-chart')\n",
    "    ], style={'display': 'flex', 'justify-content': 'center', 'flex-wrap': 'wrap'}),\n",
    "    html.Div([\n",
    "        dcc.Graph(id='age-group-bar-chart'),\n",
    "        dcc.Graph(id='race-tree-chart'),\n",
    "        dcc.Graph(figure=heatmap_fig)\n",
    "    ], style={'display': 'flex', 'justify-content': 'center', 'flex-wrap': 'wrap'}),\n",
    "], style={'backgroundColor': '#9CE2F8'})\n",
    "\n",
    "# Callbacks for the charts, total deaths text, and cancer information display\n",
    "@app.callback(\n",
    "    [\n",
    "        Output('time-series-chart', 'figure'),\n",
    "        Output('pie-chart', 'figure'),\n",
    "        Output('age-group-bar-chart', 'figure'),\n",
    "        Output('race-tree-chart', 'figure'),\n",
    "        Output('total-deaths', 'children'), \n",
    "        Output('cancer-info-table', 'children')  \n",
    "    ],\n",
    "    [Input('cancer-type-dropdown', 'value')]\n",
    ")\n",
    "def update_charts(selected_cancer_type):\n",
    "    \n",
    "    # Time Series Chart\n",
    "    time_series_fig = px.line(monthly_cases, x='Month-Year', y=selected_cancer_type)\n",
    "    time_series_fig.update_layout(\n",
    "        title_text=f'Death Cases over Months',\n",
    "        title_x=0.5,\n",
    "        title_font=dict(size=24, family='Verdana, bold', color='black')\n",
    "    )\n",
    "\n",
    "    # Pie Chart for Sex Distribution\n",
    "    pie_chart_colors = {'F': 'pink', 'M': 'steel blue'}\n",
    "    pie_chart_fig = px.pie(df, values=selected_cancer_type, names='Sex')\n",
    "    pie_chart_fig.update_traces(marker=dict(colors=[pie_chart_colors.get(sex, 'grey') for sex in df['Sex']]), textinfo='percent+label')\n",
    "    pie_chart_fig.update_layout(\n",
    "        title_text=f'Distribution by Sex',\n",
    "        title_x=0.5,\n",
    "        title_font=dict(size=24, family='Verdana, bold', color='black')\n",
    "    )\n",
    "\n",
    "\n",
    "    # Bar Chart for Age Group Distribution \n",
    "    age_group_fig = px.funnel(aggregated_data, x='Age Group', y=selected_cancer_type)\n",
    "\n",
    "    age_group_fig.update_traces(\n",
    "    marker_color='#FF8243',  \n",
    "    marker_line_color='black',  \n",
    "    marker_line_width=1.5  \n",
    "    )\n",
    "\n",
    "    age_group_fig.update_layout(\n",
    "    title_text=f'Deaths by Age Group',\n",
    "    title_x=0.5,\n",
    "    title_font=dict(size=24, family='Verdana, bold', color='black')\n",
    "    )\n",
    "\n",
    "\n",
    "    # Tree Map for Race Distribution\n",
    "    race_tree_fig = px.treemap(df, path=['Race'], values=selected_cancer_type)\n",
    "    race_tree_fig.update_layout(\n",
    "        title_text=f'Deaths by Race',\n",
    "        title_x=0.5,\n",
    "        title_font=dict(size=24, family='Verdana, bold', color='black')\n",
    "    )\n",
    "\n",
    "    # Total deaths for the selected cancer type\n",
    "    total_deaths = df[selected_cancer_type].sum()\n",
    "    total_deaths_text = f\"Total Deaths: {total_deaths:,.0f}\"\n",
    "\n",
    "    # Cancer type information\n",
    "    cancer_info = cancer_definitions_dict.get(selected_cancer_type, {})\n",
    "    cancer_info_table = html.Div([\n",
    "        html.H4(f\"Cancer Type: {selected_cancer_type}\"),\n",
    "        html.P(f\"Definition: {cancer_info.get('Definition', 'N/A')}\"),\n",
    "        html.P(f\"Symptoms: {cancer_info.get('Symptoms', 'N/A')}\")\n",
    "    ], style={'padding': '20px', 'border': '1px solid #ddd', 'margin': '20px 0', 'borderRadius': '5px'})\n",
    "\n",
    "    return time_series_fig, pie_chart_fig, age_group_fig, race_tree_fig, total_deaths_text, cancer_info_table\n",
    "\n",
    "# Running the app\n",
    "if __name__ == '__main__':\n",
    "    app.run_server(debug=True, use_reloader=False)\n",
    "    \n",
    "\n",
    "print(f'Dashboard is running at http://127.0.0.1:8050/')\n"
   ]
  },
  {
   "cell_type": "code",
   "execution_count": null,
   "id": "8f57df27",
   "metadata": {},
   "outputs": [],
   "source": []
  }
 ],
 "metadata": {
  "kernelspec": {
   "display_name": "Python 3 (ipykernel)",
   "language": "python",
   "name": "python3"
  },
  "language_info": {
   "codemirror_mode": {
    "name": "ipython",
    "version": 3
   },
   "file_extension": ".py",
   "mimetype": "text/x-python",
   "name": "python",
   "nbconvert_exporter": "python",
   "pygments_lexer": "ipython3",
   "version": "3.11.5"
  }
 },
 "nbformat": 4,
 "nbformat_minor": 5
}
